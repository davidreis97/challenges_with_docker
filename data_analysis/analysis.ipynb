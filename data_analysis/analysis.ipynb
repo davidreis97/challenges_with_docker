{
 "cells": [
  {
   "cell_type": "code",
   "execution_count": 1,
   "metadata": {
    "collapsed": true
   },
   "outputs": [
    {
     "name": "stdout",
     "output_type": "stream",
     "text": [
      "Requirement already satisfied: numpy in /Library/Frameworks/Python.framework/Versions/3.7/lib/python3.7/site-packages (1.17.4)\n",
      "Requirement already satisfied: gspread in /Library/Frameworks/Python.framework/Versions/3.7/lib/python3.7/site-packages (3.6.0)\n",
      "Requirement already satisfied: oauth2client in /Library/Frameworks/Python.framework/Versions/3.7/lib/python3.7/site-packages (4.1.3)\n",
      "Requirement already satisfied: df2gspread in /Library/Frameworks/Python.framework/Versions/3.7/lib/python3.7/site-packages (1.0.4)\n",
      "Requirement already satisfied: pandas in /Library/Frameworks/Python.framework/Versions/3.7/lib/python3.7/site-packages (1.0.5)\n",
      "Requirement already satisfied: matplotlib in /Library/Frameworks/Python.framework/Versions/3.7/lib/python3.7/site-packages (3.2.2)\n",
      "Requirement already satisfied: seaborn in /Library/Frameworks/Python.framework/Versions/3.7/lib/python3.7/site-packages (0.10.1)\n",
      "Requirement already satisfied: google-auth-oauthlib>=0.4.1 in /Library/Frameworks/Python.framework/Versions/3.7/lib/python3.7/site-packages (from gspread) (0.4.1)\n",
      "Requirement already satisfied: requests>=2.2.1 in /Library/Frameworks/Python.framework/Versions/3.7/lib/python3.7/site-packages (from gspread) (2.22.0)\n",
      "Requirement already satisfied: google-auth>=1.12.0 in /Library/Frameworks/Python.framework/Versions/3.7/lib/python3.7/site-packages (from gspread) (1.18.0)\n",
      "Requirement already satisfied: pyasn1-modules>=0.0.5 in /Library/Frameworks/Python.framework/Versions/3.7/lib/python3.7/site-packages (from oauth2client) (0.2.2)\n",
      "Requirement already satisfied: pyasn1>=0.1.7 in /Library/Frameworks/Python.framework/Versions/3.7/lib/python3.7/site-packages (from oauth2client) (0.4.4)\n",
      "Requirement already satisfied: rsa>=3.1.4 in /Library/Frameworks/Python.framework/Versions/3.7/lib/python3.7/site-packages (from oauth2client) (4.0)\n",
      "Requirement already satisfied: httplib2>=0.9.1 in /Library/Frameworks/Python.framework/Versions/3.7/lib/python3.7/site-packages (from oauth2client) (0.18.1)\n",
      "Requirement already satisfied: six>=1.6.1 in /Users/davidreis/Library/Python/3.7/lib/python/site-packages (from oauth2client) (1.13.0)\n",
      "Requirement already satisfied: google-api-python-client==1.6.7 in /Library/Frameworks/Python.framework/Versions/3.7/lib/python3.7/site-packages (from df2gspread) (1.6.7)\n",
      "Requirement already satisfied: argparse>=1.3.0 in /Library/Frameworks/Python.framework/Versions/3.7/lib/python3.7/site-packages (from df2gspread) (1.4.0)\n",
      "Requirement already satisfied: python-dateutil>=2.6.1 in /Library/Frameworks/Python.framework/Versions/3.7/lib/python3.7/site-packages (from pandas) (2.8.1)\n",
      "Requirement already satisfied: pytz>=2017.2 in /Library/Frameworks/Python.framework/Versions/3.7/lib/python3.7/site-packages (from pandas) (2020.1)\n",
      "Requirement already satisfied: cycler>=0.10 in /Library/Frameworks/Python.framework/Versions/3.7/lib/python3.7/site-packages (from matplotlib) (0.10.0)\n",
      "Requirement already satisfied: pyparsing!=2.0.4,!=2.1.2,!=2.1.6,>=2.0.1 in /Library/Frameworks/Python.framework/Versions/3.7/lib/python3.7/site-packages (from matplotlib) (2.4.7)\n",
      "Requirement already satisfied: kiwisolver>=1.0.1 in /Library/Frameworks/Python.framework/Versions/3.7/lib/python3.7/site-packages (from matplotlib) (1.2.0)\n",
      "Requirement already satisfied: scipy>=1.0.1 in /Library/Frameworks/Python.framework/Versions/3.7/lib/python3.7/site-packages (from seaborn) (1.4.1)\n",
      "Requirement already satisfied: requests-oauthlib>=0.7.0 in /Library/Frameworks/Python.framework/Versions/3.7/lib/python3.7/site-packages (from google-auth-oauthlib>=0.4.1->gspread) (1.3.0)\n",
      "Requirement already satisfied: idna<2.9,>=2.5 in /Library/Frameworks/Python.framework/Versions/3.7/lib/python3.7/site-packages (from requests>=2.2.1->gspread) (2.7)\n",
      "Requirement already satisfied: urllib3!=1.25.0,!=1.25.1,<1.26,>=1.21.1 in /Library/Frameworks/Python.framework/Versions/3.7/lib/python3.7/site-packages (from requests>=2.2.1->gspread) (1.23)\n",
      "Requirement already satisfied: chardet<3.1.0,>=3.0.2 in /Library/Frameworks/Python.framework/Versions/3.7/lib/python3.7/site-packages (from requests>=2.2.1->gspread) (3.0.4)\n",
      "Requirement already satisfied: certifi>=2017.4.17 in /Library/Frameworks/Python.framework/Versions/3.7/lib/python3.7/site-packages (from requests>=2.2.1->gspread) (2018.8.24)\n",
      "Requirement already satisfied: cachetools<5.0,>=2.0.0 in /Library/Frameworks/Python.framework/Versions/3.7/lib/python3.7/site-packages (from google-auth>=1.12.0->gspread) (4.0.0)\n",
      "Requirement already satisfied: setuptools>=40.3.0 in /Library/Frameworks/Python.framework/Versions/3.7/lib/python3.7/site-packages (from google-auth>=1.12.0->gspread) (47.3.1)\n",
      "Requirement already satisfied: uritemplate<4dev,>=3.0.0 in /Library/Frameworks/Python.framework/Versions/3.7/lib/python3.7/site-packages (from google-api-python-client==1.6.7->df2gspread) (3.0.1)\n",
      "Requirement already satisfied: oauthlib>=3.0.0 in /Library/Frameworks/Python.framework/Versions/3.7/lib/python3.7/site-packages (from requests-oauthlib>=0.7.0->google-auth-oauthlib>=0.4.1->gspread) (3.1.0)\n",
      "\u001b[33mWARNING: You are using pip version 19.3.1; however, version 20.1.1 is available.\n",
      "You should consider upgrading via the 'pip install --upgrade pip' command.\u001b[0m\n"
     ]
    }
   ],
   "source": [
    "# Install a pip package in the current Jupyter kernel\n",
    "import sys\n",
    "!{sys.executable} -m pip install numpy gspread oauth2client df2gspread pandas matplotlib seaborn"
   ]
  },
  {
   "cell_type": "code",
   "execution_count": 2,
   "metadata": {},
   "outputs": [],
   "source": [
    "import pandas as pd \n",
    "import gspread\n",
    "import seaborn\n",
    "import matplotlib.pyplot as plt\n",
    "import matplotlib.patches as mpatches\n",
    "import textwrap\n",
    "import numpy as np\n",
    "from itertools import chain\n",
    "from oauth2client.service_account import ServiceAccountCredentials"
   ]
  },
  {
   "cell_type": "code",
   "execution_count": 3,
   "metadata": {},
   "outputs": [],
   "source": [
    "pd.set_option('display.max_rows', 3000)\n",
    "pd.set_option('display.max_columns', 3000)\n",
    "pd.set_option('display.width', 1000)\n",
    "pd.options.display.max_colwidth = 0"
   ]
  },
  {
   "cell_type": "code",
   "execution_count": 28,
   "metadata": {
    "scrolled": true
   },
   "outputs": [],
   "source": [
    "run = 2\n",
    "\n",
    "rawdata = {}\n",
    "rawdata[\"Questions\"] = []\n",
    "rawdata[\"Answers\"] = []\n",
    "rawdata[\"Percentage\"] = []\n",
    "\n",
    "if run == 1:\n",
    "    for i in range(1,8):\n",
    "        for j in range(1,6):\n",
    "            rawdata[\"Questions\"].append(f\"Q{i}\")\n",
    "            rawdata[\"Answers\"].append(j)\n",
    "    rawdata[\"Percentage\"].extend([2.040816327,14.28571429,53.06122449,28.57142857,2.040816327])\n",
    "    rawdata[\"Percentage\"].extend([4.081632653,8.163265306,38.7755102,36.73469388,12.24489796])\n",
    "    rawdata[\"Percentage\"].extend([0,14.28571429,32.65306122,34.69387755,18.36734694])\n",
    "    rawdata[\"Percentage\"].extend([2.040816327,8.163265306,28.57142857,44.89795918,16.32653061])\n",
    "    rawdata[\"Percentage\"].extend([4.081632653,2.040816327,28.57142857,38.7755102,26.53061224])\n",
    "    rawdata[\"Percentage\"].extend([2.040816327,6.12244898,38.7755102,36.73469388,16.32653061])\n",
    "    rawdata[\"Percentage\"].extend([2.040816327,8.163265306,28.57142857,26.53061224,34.69387755])\n",
    "elif run == 2:\n",
    "    for i in range(1,9):\n",
    "        for j in range(1,6):\n",
    "            rawdata[\"Questions\"].append(f\"Q{i}\")\n",
    "            rawdata[\"Answers\"].append(j)\n",
    "    rawdata[\"Percentage\"].extend([2.752293578,21.10091743,23.85321101,34.86238532,17.43119266]) #Q3\n",
    "    rawdata[\"Percentage\"].extend([1.834862385,13.76146789,22.93577982,35.77981651,25.68807339]) #Q4\n",
    "    rawdata[\"Percentage\"].extend([7.339449541,22.93577982,18.34862385,35.77981651,15.59633028]) #Q2\n",
    "    rawdata[\"Percentage\"].extend([0          ,5.504587156,19.26605505,40.36697248,34.86238532]) #Q5\n",
    "    rawdata[\"Percentage\"].extend([3.669724771,12.8440367 ,19.26605505,34.86238532,29.35779817]) #Q6\n",
    "    rawdata[\"Percentage\"].extend([7.339449541,22.01834862,20.18348624,26.60550459,23.85321101]) #Q7\n",
    "    rawdata[\"Percentage\"].extend([2.752293578,7.339449541,20.18348624,36.69724771,33.02752294]) #Q8\n",
    "    rawdata[\"Percentage\"].extend([3.669724771,21.10091743,37.6146789 ,29.35779817,8.256880734]) #Q1\n",
    "else:\n",
    "    raise Exception(\"Unknown run\")\n",
    "\n",
    "data = pd.DataFrame(rawdata)"
   ]
  },
  {
   "cell_type": "code",
   "execution_count": 29,
   "metadata": {},
   "outputs": [],
   "source": [
    "new_percentages = []\n",
    "\n",
    "for i, row in data.iterrows():\n",
    "    new_percentages.append(data[(data[\"Questions\"]==row[\"Questions\"])&(data[\"Answers\"]<=row[\"Answers\"])]['Percentage'].sum())\n",
    "\n",
    "data['Percentage'] = new_percentages"
   ]
  },
  {
   "cell_type": "code",
   "execution_count": 30,
   "metadata": {
    "scrolled": true
   },
   "outputs": [
    {
     "data": {
      "text/plain": [
       "<matplotlib.legend.Legend at 0x11b40f470>"
      ]
     },
     "execution_count": 30,
     "metadata": {},
     "output_type": "execute_result"
    },
    {
     "data": {
      "image/png": "[encoded data removed]",
      "text/plain": [
       "<Figure size 432x288 with 1 Axes>"
      ]
     },
     "metadata": {
      "needs_background": "light"
     },
     "output_type": "display_data"
    }
   ],
   "source": [
    "if len(data[data['Answers'] < 6]) > 0:\n",
    "    ax1 = seaborn.barplot(x=\"Questions\", y=\"Percentage\", data=data[data['Answers']==5], color=\"C2\",ci=None)\n",
    "if len(data[data['Answers'] < 5]) > 0:\n",
    "    ax2 = seaborn.barplot(x=\"Questions\", y=\"Percentage\", data=data[data['Answers']==4], color=\"C8\",ci=None)\n",
    "if len(data[data['Answers'] < 4]) > 0:\n",
    "    ax3 = seaborn.barplot(x=\"Questions\", y=\"Percentage\", data=data[data['Answers']==3], color=\"C7\",ci=None)\n",
    "if len(data[data['Answers'] < 3]) > 0:\n",
    "    ax4 = seaborn.barplot(x=\"Questions\", y=\"Percentage\", data=data[data['Answers']==2], color=\"C1\",ci=None)\n",
    "if len(data[data['Answers'] < 2]) > 0:\n",
    "    ax5 = seaborn.barplot(x=\"Questions\", y=\"Percentage\", data=data[data['Answers']==1], color=\"C3\",ci=None)\n",
    "    \n",
    "seaborn.barplot(x=\"Questions\", y=\"Percentage\", data=data[data['Answers'] < 6], alpha=0,ci=None)\n",
    "\n",
    "ax5.set(xlabel='Questions', ylabel='Responses (%)', xticklabels=[\"A1\", \"A2\", \"A3\", \"A4\", \"A5\", \"A6\", \"A7\", \"A8\"])\n",
    "strg_agree = mpatches.Patch(facecolor='C2', label='Strongly Agree')\n",
    "agree = mpatches.Patch(facecolor='C8', label='Agree')\n",
    "neutral = mpatches.Patch(facecolor='C7', label='Neutral')\n",
    "disagree = mpatches.Patch(facecolor='C1', label='Disagree')\n",
    "strg_disagree = mpatches.Patch(facecolor='C3', label='Strongly Disagree')\n",
    "plt.legend(handles=[strg_agree,agree,neutral,disagree,strg_disagree], bbox_to_anchor=(1, 1))"
   ]
  }
 ],
 "metadata": {
  "kernelspec": {
   "display_name": "Python 3",
   "language": "python",
   "name": "python3"
  },
  "language_info": {
   "codemirror_mode": {
    "name": "ipython",
    "version": 3
   },
   "file_extension": ".py",
   "mimetype": "text/x-python",
   "name": "python",
   "nbconvert_exporter": "python",
   "pygments_lexer": "ipython3",
   "version": "3.7.0"
  }
 },
 "nbformat": 4,
 "nbformat_minor": 2
}
